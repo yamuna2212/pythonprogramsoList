{
 "cells": [
  {
   "cell_type": "code",
   "execution_count": null,
   "id": "0c971797",
   "metadata": {},
   "outputs": [],
   "source": [
    "#Write a program to find the sum of all the elements in a list.\n",
    "\n",
    "#Write a program to find the largest element in a list.\n",
    "\n",
    "#Write a program to find the second largest element in a list.\n",
    "\n",
    "#Write a program to find the number of even and odd numbers in a list.\n",
    "\n",
    "#Write a program to find the intersection of two lists.\n",
    "\n",
    "#Write a program to merge two lists and sort them in ascending order.\n",
    "\n",
    "#Write a program to remove all duplicates from a list.\n",
    "\n",
    "#Write a program to find the index of an element in a list.\n",
    "\n",
    "#Write a program to remove all the elements from a list that are divisible by 3.\n",
    "\n",
    "#Write a program to find the first and last elements of a list.\n",
    "\n",
    "#Write a program to reverse a list.\n",
    "\n",
    "#Write a program to check if a list is sorted in ascending order.\n",
    "\n",
    "#Write a program to find the common elements between two lists.\n",
    "\n",
    "#Write a program to split a list into smaller lists of a specific size.\n",
    "\n",
    "#Write a program to find the frequency of each element in a list.\n"
   ]
  },
  {
   "cell_type": "code",
   "execution_count": null,
   "id": "b3eb80b4",
   "metadata": {},
   "outputs": [],
   "source": []
  },
  {
   "cell_type": "code",
   "execution_count": 6,
   "id": "7bee884a",
   "metadata": {},
   "outputs": [
    {
     "name": "stdout",
     "output_type": "stream",
     "text": [
      "10\n"
     ]
    }
   ],
   "source": [
    "#Write a program to find the sum of all the elements in a list.\n",
    "a=[1,2,3,4]\n",
    "sum=0\n",
    "for i in a:\n",
    "    sum=sum+i\n",
    "print(sum)"
   ]
  },
  {
   "cell_type": "code",
   "execution_count": 8,
   "id": "7f3a4b6e",
   "metadata": {},
   "outputs": [
    {
     "data": {
      "text/plain": [
       "5"
      ]
     },
     "execution_count": 8,
     "metadata": {},
     "output_type": "execute_result"
    }
   ],
   "source": [
    "#Write a program to find the largest element in a list.\n",
    "a=[1,2,3,4,5]\n",
    "a.sort()\n",
    "a[-1]"
   ]
  },
  {
   "cell_type": "code",
   "execution_count": 9,
   "id": "262fb857",
   "metadata": {},
   "outputs": [
    {
     "name": "stdout",
     "output_type": "stream",
     "text": [
      "The largest element in the list is: 9\n"
     ]
    }
   ],
   "source": [
    "def find_largest(lst):\n",
    "    max_val = lst[0]  \n",
    "    for val in lst:\n",
    "        if val > max_val:\n",
    "            max_val = val\n",
    "    return max_val\n",
    "\n",
    "my_list = [3, 8, 1, 9, 4, 6]\n",
    "largest_val = find_largest(my_list)\n",
    "print(\"The largest element in the list is:\", largest_val)\n"
   ]
  },
  {
   "cell_type": "code",
   "execution_count": 10,
   "id": "52592df2",
   "metadata": {},
   "outputs": [
    {
     "data": {
      "text/plain": [
       "4"
      ]
     },
     "execution_count": 10,
     "metadata": {},
     "output_type": "execute_result"
    }
   ],
   "source": [
    "#Write a program to find the second largest element in a list.\n",
    "a=[1,2,3,4,5]\n",
    "a.sort()\n",
    "a[-2]"
   ]
  },
  {
   "cell_type": "code",
   "execution_count": null,
   "id": "d4ccf016",
   "metadata": {},
   "outputs": [],
   "source": [
    "def find_second_largest(lst):\n",
    "              # First, find the maximum value in the list\n",
    "    max_val = max(lst)\n",
    "              # Then, remove the maximum value from the list\n",
    "    lst.remove(max_val)\n",
    "              # Finally, find the maximum value in the updated list, which will be the second largest value\n",
    "    sec_max_val = max(lst)\n",
    "    return sec_max_val\n",
    "\n",
    "            # Example usage:\n",
    "my_list = [3, 8, 1, 9, 4, 6]\n",
    "second_largest_val = find_second_largest(my_list)\n",
    "print(\"The second largest element in the list is:\", second_largest_val)\n"
   ]
  },
  {
   "cell_type": "code",
   "execution_count": 20,
   "id": "235edb70",
   "metadata": {},
   "outputs": [
    {
     "name": "stdout",
     "output_type": "stream",
     "text": [
      "Number of even numbers in the list: 5\n",
      "Number of odd numbers in the list: 5\n"
     ]
    }
   ],
   "source": [
    "#Write a program to find the number of even and odd numbers in a list.\n",
    "a = [1, 2, 3, 4, 5, 6, 7, 8, 9, 10]\n",
    "even_count = 0\n",
    "odd_count = 0\n",
    "\n",
    "for i in a:\n",
    "    if i % 2 == 0:\n",
    "        even_count += 1\n",
    "    else:\n",
    "        odd_count += 1\n",
    "\n",
    "print(\"Number of even numbers in the list:\", even_count)\n",
    "print(\"Number of odd numbers in the list:\", odd_count)\n",
    "\n"
   ]
  },
  {
   "cell_type": "code",
   "execution_count": 21,
   "id": "c242c452",
   "metadata": {},
   "outputs": [
    {
     "name": "stdout",
     "output_type": "stream",
     "text": [
      "[1, 2, 3, 4, 5, 6, 7, 8]\n"
     ]
    }
   ],
   "source": [
    "#Write a program to find the intersection of two lists.\n",
    "a=[1,2,3,4]\n",
    "b=[5,6,7,8]\n",
    "c=a+b\n",
    "print(c)\n"
   ]
  },
  {
   "cell_type": "code",
   "execution_count": null,
   "id": "7c246e02",
   "metadata": {},
   "outputs": [],
   "source": [
    "a = [1, 2, 3, 4, 5]\n",
    "b = [4, 5, 6, 7, 8]\n",
    "\n",
    "intersection = []\n",
    "\n",
    "for i in a:\n",
    "    if i in b:\n",
    "        intersection.append(i)\n",
    "\n",
    "print(\"The intersection of the two lists is:\", intersection)\n"
   ]
  },
  {
   "cell_type": "code",
   "execution_count": 26,
   "id": "16428d5e",
   "metadata": {},
   "outputs": [
    {
     "name": "stdout",
     "output_type": "stream",
     "text": [
      "[1, 2, 3, 4, 5, 4, 5, 6, 7, 8]\n"
     ]
    }
   ],
   "source": [
    "#Write a program to merge two lists and sort them in ascending order.\n",
    "a = [1, 2, 3, 4, 5]\n",
    "b = [4, 5, 6, 7, 8]\n",
    "c = a + b\n",
    "c.sort()\n",
    "print(\"Merged and sorted list:\", c)\n"
   ]
  },
  {
   "cell_type": "code",
   "execution_count": 30,
   "id": "91a0a004",
   "metadata": {},
   "outputs": [
    {
     "data": {
      "text/plain": [
       "[1, 2, 3, 4, 6, 7, 8]"
      ]
     },
     "execution_count": 30,
     "metadata": {},
     "output_type": "execute_result"
    }
   ],
   "source": [
    "##Write a program to remove all duplicates from a list.\n",
    "a=[1,2,3,4,1,2,3,6,7,8]\n",
    "b=set(a)\n",
    "list(b)"
   ]
  },
  {
   "cell_type": "code",
   "execution_count": null,
   "id": "3b888315",
   "metadata": {},
   "outputs": [],
   "source": [
    "a = [1, 2, 3, 4, 1, 2, 3, 6, 7, 8]\n",
    "b = []\n",
    "\n",
    "for i in a:\n",
    "    if i not in b:\n",
    "        b.append(i)\n",
    "\n",
    "print(\"List with duplicates removed:\", b)\n"
   ]
  },
  {
   "cell_type": "code",
   "execution_count": 32,
   "id": "c8c1b72d",
   "metadata": {},
   "outputs": [
    {
     "data": {
      "text/plain": [
       "3"
      ]
     },
     "execution_count": 32,
     "metadata": {},
     "output_type": "execute_result"
    }
   ],
   "source": [
    "#Write a program to find the index of an element in a list.\n",
    "a=[1,2,3,4,5,6]\n",
    "a.index(4)"
   ]
  },
  {
   "cell_type": "code",
   "execution_count": 47,
   "id": "46b012bc",
   "metadata": {},
   "outputs": [
    {
     "name": "stdout",
     "output_type": "stream",
     "text": [
      "Original list: [1, 2, 3, 4, 5, 6, 7, 8, 9, 10]\n",
      "List with elements divisible by 3 removed: [1, 2, 4, 5, 7, 8, 10]\n"
     ]
    }
   ],
   "source": [
    "#Write a program to remove all the elements from a list that are divisible by 3.\n",
    "a = [1, 2, 3, 4, 5, 6, 7, 8, 9, 10]\n",
    "list1 = []\n",
    "\n",
    "for i in a:\n",
    "    if i % 3 != 0:\n",
    "        list1.append(i)\n",
    "\n",
    "print(\"Original list:\", a)\n",
    "print(\"List with elements divisible by 3 removed:\", list1)\n",
    "        \n",
    "    "
   ]
  },
  {
   "cell_type": "code",
   "execution_count": 37,
   "id": "1c40e255",
   "metadata": {},
   "outputs": [
    {
     "name": "stdout",
     "output_type": "stream",
     "text": [
      "the 1st element 1\n",
      "the 1st element 10\n"
     ]
    }
   ],
   "source": [
    "#Write a program to find the first and last elements of a list.\n",
    "a = [1, 2, 3, 4, 5, 6, 7, 8, 9, 10]\n",
    "print(\"the 1st element\",a[0])\n",
    "print(\"the 1st element\",a[-1])\n"
   ]
  },
  {
   "cell_type": "code",
   "execution_count": 39,
   "id": "c9db251f",
   "metadata": {},
   "outputs": [
    {
     "name": "stdout",
     "output_type": "stream",
     "text": [
      "[10, 9, 8, 7, 6, 5, 4, 3, 2, 1]\n"
     ]
    }
   ],
   "source": [
    "#Write a program to reverse a list.\n",
    "a = [1, 2, 3, 4, 5, 6, 7, 8, 9, 10]\n",
    "print(a[::-1])\n"
   ]
  },
  {
   "cell_type": "code",
   "execution_count": 48,
   "id": "f8e4f6fb",
   "metadata": {},
   "outputs": [
    {
     "name": "stdout",
     "output_type": "stream",
     "text": [
      "The list is not sorted in ascending order.\n"
     ]
    }
   ],
   "source": [
    "#Write a program to check if a list is sorted in ascending order.\n",
    "a = [11, 2, 3, 1, 9, 5, 6, 17, 8, 9, 10]\n",
    "if a == sorted(a):\n",
    "    print(\"The list is sorted in ascending order.\")\n",
    "else:\n",
    "    print(\"The list is not sorted in ascending order.\")\n"
   ]
  },
  {
   "cell_type": "code",
   "execution_count": 49,
   "id": "0273c7a1",
   "metadata": {},
   "outputs": [
    {
     "name": "stdout",
     "output_type": "stream",
     "text": [
      "4\n",
      "5\n",
      "6\n"
     ]
    }
   ],
   "source": [
    "#Write a program to find the common elements between two lists.\n",
    "\n",
    "a=[1,2,3,4,5,6]\n",
    "b=[4,5,6,7,8]\n",
    "for i in a:\n",
    "    if i in b:\n",
    "        print(i)\n",
    "    "
   ]
  },
  {
   "cell_type": "code",
   "execution_count": 50,
   "id": "f41428d6",
   "metadata": {},
   "outputs": [
    {
     "name": "stdout",
     "output_type": "stream",
     "text": [
      "[[1, 2, 3], [4, 5, 6], [7, 8, 9], [10]]\n"
     ]
    }
   ],
   "source": [
    "#Write a program to split a list into smaller lists of a specific size.\n",
    "\n",
    "def split_list(lst, size):\n",
    "    \"\"\"\n",
    "    Splits a list into smaller lists of a specific size.\n",
    "    \"\"\"\n",
    "    return [lst[i:i+size] for i in range(0, len(lst), size)]\n",
    "\n",
    "# Example usage:\n",
    "a = [1, 2, 3, 4, 5, 6, 7, 8, 9, 10]\n",
    "b = split_list(a, 3)\n",
    "print(b)  \n"
   ]
  },
  {
   "cell_type": "code",
   "execution_count": 52,
   "id": "c32ff36d",
   "metadata": {},
   "outputs": [
    {
     "name": "stdout",
     "output_type": "stream",
     "text": [
      "{1: 3, 2: 3, 3: 1, 4: 1, 5: 1, 6: 1}\n"
     ]
    }
   ],
   "source": [
    "#Write a program to find the frequency of each element in a list.\n",
    "def frequency(lst):\n",
    "    \"\"\"\n",
    "    Finds the frequency of each element in a list.\n",
    "    \"\"\"\n",
    "    freq = {}\n",
    "    for item in lst:\n",
    "        if item in freq:\n",
    "            freq[item] += 1\n",
    "        else:\n",
    "            freq[item] = 1\n",
    "    return freq\n",
    "\n",
    "\n",
    "a = [1, 2, 3, 1, 2, 1, 4, 5, 2, 6]\n",
    "b = frequency(a)\n",
    "print(b)  \n"
   ]
  },
  {
   "cell_type": "code",
   "execution_count": null,
   "id": "ed55faee",
   "metadata": {},
   "outputs": [],
   "source": [
    "#Write a program to find the maximum difference between any two elements in a list.\n",
    "#Write a program to find the third smallest element in a list.\n",
    "#Write a program to find the union of two lists.\n",
    "#Write a program to remove duplicates from a list without using a set.\n",
    "#Write a program to find the sum of all the even numbers in a list.\n",
    "#Write a program to sort a list of dictionaries based on a specific key.\n",
    "#Write a program to find the common elements between three lists.\n",
    "#Write a program to find the first non-repeating element in a list.\n",
    "#Write a program to rotate a list by a specified number of positions.\n",
    "#Write a program to shuffle a list randomly."
   ]
  },
  {
   "cell_type": "code",
   "execution_count": null,
   "id": "f947ec03",
   "metadata": {},
   "outputs": [],
   "source": [
    "#Write a program to find the maximum difference between any two elements in a list.\n"
   ]
  },
  {
   "cell_type": "code",
   "execution_count": 60,
   "id": "3a7f8d35",
   "metadata": {},
   "outputs": [
    {
     "name": "stdout",
     "output_type": "stream",
     "text": [
      "the 3d smallest element : 3\n"
     ]
    }
   ],
   "source": [
    "#Write a program to find the third smallest element in a list.\n",
    "a=[11,2,3,4,5,6,1,8,7,9]\n",
    "a.sort()\n",
    "print(\"the 3d smallest element :\",a[2])"
   ]
  },
  {
   "cell_type": "code",
   "execution_count": null,
   "id": "4b548269",
   "metadata": {},
   "outputs": [],
   "source": [
    "a = [11, 2, 3, 4, 5, 6, 1, 8, 7, 9]\n",
    "\n",
    "# Find the smallest element in the list\n",
    "min_element = min(a)\n",
    "\n",
    "# Remove the smallest element from the list\n",
    "a.remove(min_element)\n",
    "\n",
    "# Find the second smallest element in the updated list\n",
    "second_min_element = min(a)\n",
    "\n",
    "# Remove the second smallest element from the list\n",
    "a.remove(second_min_element)\n",
    "\n",
    "# Find the third smallest element in the updated list\n",
    "third_min_element = min(a)\n",
    "\n",
    "print(\"The third smallest element is:\", third_min_element)\n"
   ]
  },
  {
   "cell_type": "code",
   "execution_count": 62,
   "id": "771cb3e9",
   "metadata": {},
   "outputs": [
    {
     "name": "stdout",
     "output_type": "stream",
     "text": [
      "The union of the two lists is: [1, 2, 3, 4, 5, 6, 7, 8]\n"
     ]
    }
   ],
   "source": [
    "#Write a program to find the union of two lists.\n",
    "a = [1, 2, 3, 4, 5]\n",
    "b = [4, 5, 6, 7, 8]\n",
    "\n",
    "set_a = set(a)\n",
    "set_b = set(b)\n",
    "\n",
    "# Find the union of the sets\n",
    "union_set = set_a.union(set_b)\n",
    "\n",
    "# Convert the union set back to a list\n",
    "union_list = list(union_set)\n",
    "\n",
    "print(\"The union of the two lists is:\", union_list)\n"
   ]
  },
  {
   "cell_type": "code",
   "execution_count": 63,
   "id": "2e376008",
   "metadata": {},
   "outputs": [
    {
     "name": "stdout",
     "output_type": "stream",
     "text": [
      "Original list: [1, 2, 3, 2, 1, 5, 6, 5, 5]\n",
      "List with duplicates removed: [1, 2, 3, 5, 6]\n"
     ]
    }
   ],
   "source": [
    "#Write a program to remove duplicates from a list without using a set.\n",
    "a = [1, 2, 3, 2, 1, 5, 6, 5, 5]\n",
    "\n",
    "unique_list = []\n",
    "\n",
    "for element in a:\n",
    "    if element not in unique_list:\n",
    "        unique_list.append(element)\n",
    "\n",
    "print(\"Original list:\", a)\n",
    "print(\"List with duplicates removed:\", unique_list)\n"
   ]
  },
  {
   "cell_type": "code",
   "execution_count": 68,
   "id": "ed5f593d",
   "metadata": {},
   "outputs": [
    {
     "name": "stdout",
     "output_type": "stream",
     "text": [
      "Original list: [1, 2, 3, 4, 5, 6, 7]\n",
      "Sum of even numbers: 12\n"
     ]
    }
   ],
   "source": [
    "#Write a program to find the sum of all the even numbers in a list.\n",
    "a = [1, 2, 3, 4, 5, 6,7]\n",
    "even_sum = 0  \n",
    "\n",
    "for i in a:\n",
    "    if i % 2 == 0:  # Check if the current element is even\n",
    "        even_sum += i  # Add the current element to the sum\n",
    "\n",
    "print(\"Original list:\", a)\n",
    "print(\"Sum of even numbers:\", even_sum)\n",
    "        \n"
   ]
  },
  {
   "cell_type": "code",
   "execution_count": 69,
   "id": "7215e55f",
   "metadata": {},
   "outputs": [
    {
     "name": "stdout",
     "output_type": "stream",
     "text": [
      "Sorted list of dictionaries:\n",
      "{'name': 'Charlie', 'age': 20}\n",
      "{'name': 'Alice', 'age': 25}\n",
      "{'name': 'Bob', 'age': 30}\n",
      "{'name': 'David', 'age': 35}\n"
     ]
    }
   ],
   "source": [
    "#Write a program to sort a list of dictionaries based on a specific key.\n",
    "# Define a list of dictionaries\n",
    "people = [\n",
    "    {'name': 'Alice', 'age': 25},\n",
    "    {'name': 'Bob', 'age': 30},\n",
    "    {'name': 'Charlie', 'age': 20},\n",
    "    {'name': 'David', 'age': 35}\n",
    "]\n",
    "\n",
    "# Define the key to sort the list by\n",
    "sort_key = 'age'\n",
    "\n",
    "# Sort the list of dictionaries by the specified key\n",
    "sorted_people = sorted(people, key=lambda x: x[sort_key])\n",
    "\n",
    "# Print the sorted list of dictionaries\n",
    "print(\"Sorted list of dictionaries:\")\n",
    "for person in sorted_people:\n",
    "    print(person)\n"
   ]
  },
  {
   "cell_type": "code",
   "execution_count": 70,
   "id": "6948ed92",
   "metadata": {},
   "outputs": [
    {
     "name": "stdout",
     "output_type": "stream",
     "text": [
      "Common elements: [2]\n"
     ]
    }
   ],
   "source": [
    "#Write a program to find the common elements between three lists.\n",
    "# Define three lists\n",
    "a = [1, 2, 3, 4, 5]\n",
    "b = [2, 4, 6, 8]\n",
    "c = [2,3, 5, 7, 9]\n",
    "\n",
    "# Find the common elements between the three lists\n",
    "common_elements = set(a) & set(b) & set(c)\n",
    "\n",
    "print(\"Common elements:\", list(common_elements))\n"
   ]
  },
  {
   "cell_type": "code",
   "execution_count": null,
   "id": "870922b7",
   "metadata": {},
   "outputs": [],
   "source": [
    "#Write a program to find the first non-repeating element in a list.\n",
    "a=[1,2,3,3,4,4,5,6,6,7]\n"
   ]
  },
  {
   "cell_type": "code",
   "execution_count": null,
   "id": "7484c2c6",
   "metadata": {},
   "outputs": [],
   "source": [
    "#Using Operators with Lists\n",
    "even_numbers = [2,4,6,8]\n",
    "odd_numbers = [1,3,5,7]\n",
    "all_numbers = odd_numbers + even_numbers\n",
    "print(all_numbers)"
   ]
  },
  {
   "cell_type": "code",
   "execution_count": null,
   "id": "fab98b2b",
   "metadata": {},
   "outputs": [],
   "source": [
    "print([1,2,3] * 3)"
   ]
  },
  {
   "cell_type": "code",
   "execution_count": null,
   "id": "070912d6",
   "metadata": {},
   "outputs": [],
   "source": []
  }
 ],
 "metadata": {
  "kernelspec": {
   "display_name": "Python 3 (ipykernel)",
   "language": "python",
   "name": "python3"
  },
  "language_info": {
   "codemirror_mode": {
    "name": "ipython",
    "version": 3
   },
   "file_extension": ".py",
   "mimetype": "text/x-python",
   "name": "python",
   "nbconvert_exporter": "python",
   "pygments_lexer": "ipython3",
   "version": "3.10.1"
  }
 },
 "nbformat": 4,
 "nbformat_minor": 5
}
